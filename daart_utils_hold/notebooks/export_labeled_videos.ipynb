{
 "cells": [
  {
   "cell_type": "markdown",
   "metadata": {},
   "source": [
    "## Export diagnostic videos"
   ]
  },
  {
   "cell_type": "code",
   "execution_count": null,
   "metadata": {},
   "outputs": [],
   "source": [
    "import numpy as np\n",
    "import os\n",
    "\n",
    "from daart_utils.paths import data_path, results_path\n",
    "from daart_utils.data import DataHandler"
   ]
  },
  {
   "cell_type": "markdown",
   "metadata": {},
   "source": [
    "### define data paths"
   ]
  },
  {
   "cell_type": "code",
   "execution_count": null,
   "metadata": {},
   "outputs": [],
   "source": [
    "# select analyses to run\n",
    "export_labeled_videos = False\n",
    "export_syllable_videos = True\n",
    "\n",
    "# select dataset\n",
    "dataset = 'fly'\n",
    "\n",
    "if dataset == 'fly':\n",
    "    from daart_utils.session_ids.fly import SESS_IDS_ALL as sess_ids\n",
    "    from daart_utils.session_ids.fly import label_names\n",
    "elif dataset == 'ibl':\n",
    "    from daart_utils.session_ids.ibl import SESS_IDS_ALL as sess_ids\n",
    "    from daart_utils.session_ids.ibl import label_names\n",
    "\n",
    "# choose first test session as example\n",
    "sess_id = sess_ids[0]\n",
    "\n",
    "# initialize data handler; point to correct base path\n",
    "handler = DataHandler(sess_id, base_path=os.path.join(data_path, dataset))\n",
    "\n",
    "# load available data\n",
    "handler.load_video()\n",
    "handler.load_markers()\n",
    "handler.load_hand_labels()\n",
    "handler.load_heuristic_labels()"
   ]
  },
  {
   "cell_type": "markdown",
   "metadata": {},
   "source": [
    "### Video frames, markers, and labels"
   ]
  },
  {
   "cell_type": "code",
   "execution_count": null,
   "metadata": {},
   "outputs": [],
   "source": [
    "# export first 200 video frames with markers and heuristic labels\n",
    "if export_labeled_videos:\n",
    "    label_type = 'heuristic'  # 'hand' | 'heuristic' | 'model' (must load model states)\n",
    "    idxs = np.arange(0, 200)\n",
    "    save_file = os.path.join(\n",
    "        results_path, dataset, '%s_annotated_%s.mp4' % (handler.session_id, label_type))\n",
    "    handler.make_labeled_video(\n",
    "        save_file=save_file, idxs=idxs, include_markers=True, label_type=label_type)"
   ]
  },
  {
   "cell_type": "markdown",
   "metadata": {},
   "source": [
    "### Syllable videos that show snippets of each behavior"
   ]
  },
  {
   "cell_type": "code",
   "execution_count": null,
   "metadata": {},
   "outputs": [],
   "source": [
    "# export syllable videos of hand labels\n",
    "if export_syllable_videos:\n",
    "    \n",
    "    label_type = 'hand'  # 'hand' | 'heuristic' | 'model' (must load model states)\n",
    "    save_states_separately = False  # True to make state-specific videos, False to put together\n",
    "\n",
    "    save_file = os.path.join(\n",
    "        results_path, dataset, '%s_syllable_%s.mp4' % (handler.session_id, label_type))\n",
    "\n",
    "    handler.make_syllable_video(\n",
    "        save_file=save_file, label_type=label_type, max_frames=100,\n",
    "        save_states_separately=save_states_separately)"
   ]
  }
 ],
 "metadata": {
  "kernelspec": {
   "display_name": "daart",
   "language": "python",
   "name": "daart"
  },
  "language_info": {
   "codemirror_mode": {
    "name": "ipython",
    "version": 3
   },
   "file_extension": ".py",
   "mimetype": "text/x-python",
   "name": "python",
   "nbconvert_exporter": "python",
   "pygments_lexer": "ipython3",
   "version": "3.6.13"
  }
 },
 "nbformat": 4,
 "nbformat_minor": 2
}
