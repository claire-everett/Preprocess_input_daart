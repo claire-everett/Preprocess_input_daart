{
 "cells": [
  {
   "cell_type": "markdown",
   "metadata": {},
   "source": [
    "## Evaluate heuristic labels using hand labels"
   ]
  },
  {
   "cell_type": "code",
   "execution_count": null,
   "metadata": {},
   "outputs": [],
   "source": [
    "import matplotlib.pyplot as plt\n",
    "import numpy as np\n",
    "from numpy import genfromtxt\n",
    "import os\n",
    "import pandas as pd\n",
    "import seaborn as sns\n",
    "\n",
    "from daart.eval import get_precision_recall\n",
    "from daart_utils.paths import data_path"
   ]
  },
  {
   "cell_type": "markdown",
   "metadata": {},
   "source": [
    "### define data paths"
   ]
  },
  {
   "cell_type": "code",
   "execution_count": null,
   "metadata": {},
   "outputs": [],
   "source": [
    "dataset = 'ibl'\n",
    "\n",
    "if dataset == 'fly':\n",
    "    from daart_utils.session_ids.fly import SESS_IDS_ALL as sess_ids\n",
    "    from daart_utils.session_ids.fly import label_names\n",
    "elif dataset == 'ibl':\n",
    "    from daart_utils.session_ids.ibl import SESS_IDS_ALL as sess_ids\n",
    "    from daart_utils.session_ids.ibl import label_names\n",
    "\n",
    "metrics_df = []\n",
    "for sess_id in sess_ids:\n",
    "    \n",
    "    # hand labels\n",
    "    hand_labels_file = os.path.join(\n",
    "        data_path, dataset, 'labels-hand', sess_id + '_labels.csv')\n",
    "    labels = genfromtxt(hand_labels_file, delimiter=',', dtype=np.int, encoding=None)\n",
    "    labels = labels[1:, 1:]  # get rid of headers, etc.\n",
    "    states_hand = np.argmax(labels, axis=1)\n",
    "    \n",
    "    # heuristic labels\n",
    "    heur_labels_file = os.path.join(\n",
    "        data_path, dataset, 'labels-heuristic', sess_id + '_labels.csv')\n",
    "    labels_h = genfromtxt(heur_labels_file, delimiter=',', dtype=np.int, encoding=None)\n",
    "    labels_h = labels_h[1:, 1:]  # get rid of headers, etc.\n",
    "    states_heuristic = np.argmax(labels_h, axis=1)\n",
    "\n",
    "    # compute precision and recall for each behavior type\n",
    "    scores = get_precision_recall(\n",
    "        states_hand, states_heuristic, background=0, n_classes=len(label_names) - 1)\n",
    "\n",
    "    # store\n",
    "    for l, label_name in enumerate(label_names[1:]):\n",
    "        metrics_df.append(pd.DataFrame({\n",
    "            'sess_id': sess_id,\n",
    "            'label': label_name,\n",
    "            'f1': scores['f1'][l],\n",
    "            'precision': scores['precision'][l],\n",
    "            'recall': scores['recall'][l],\n",
    "        }, index=[0]))\n",
    "\n",
    "metrics_df = pd.concat(metrics_df)"
   ]
  },
  {
   "cell_type": "markdown",
   "metadata": {},
   "source": [
    "### Plot precision/recall"
   ]
  },
  {
   "cell_type": "code",
   "execution_count": null,
   "metadata": {},
   "outputs": [],
   "source": [
    "sns.set_context('talk')\n",
    "sns.set_style('whitegrid')\n",
    "\n",
    "g = sns.relplot(\n",
    "    x='precision', y='recall', col='label', col_wrap=2, hue='sess_id', data=metrics_df)\n",
    "g.fig.subplots_adjust(top=0.9)\n",
    "g.fig.suptitle('Heurisitc label evaluation')\n",
    "plt.show()"
   ]
  }
 ],
 "metadata": {
  "kernelspec": {
   "display_name": "daart",
   "language": "python",
   "name": "daart"
  },
  "language_info": {
   "codemirror_mode": {
    "name": "ipython",
    "version": 3
   },
   "file_extension": ".py",
   "mimetype": "text/x-python",
   "name": "python",
   "nbconvert_exporter": "python",
   "pygments_lexer": "ipython3",
   "version": "3.6.13"
  }
 },
 "nbformat": 4,
 "nbformat_minor": 2
}
